{
  "nbformat": 4,
  "nbformat_minor": 0,
  "metadata": {
    "colab": {
      "name": "SA_XGC_Pickeled.ipynb",
      "provenance": [],
      "collapsed_sections": [],
      "toc_visible": true
    },
    "kernelspec": {
      "name": "python3",
      "display_name": "Python 3"
    }
  },
  "cells": [
    {
      "cell_type": "markdown",
      "metadata": {
        "id": "5vrmkalDdQmD"
      },
      "source": [
        "# **Modelling MBTI with XGBoost**\n",
        "###Visualizing with WordCloud"
      ]
    },
    {
      "cell_type": "code",
      "metadata": {
        "id": "6mp2CCKF1-Qt",
        "colab": {
          "resources": {
            "http://localhost:8080/nbextensions/google.colab/files.js": {
              "data": "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",
              "ok": true,
              "headers": [
                [
                  "content-type",
                  "application/javascript"
                ]
              ],
              "status": 200,
              "status_text": ""
            }
          },
          "base_uri": "https://localhost:8080/",
          "height": 73
        },
        "outputId": "8499aeab-cdd9-48de-cae7-5e37526a4195"
      },
      "source": [
        "from google.colab import files\n",
        "uploaded = files.upload()"
      ],
      "execution_count": 4,
      "outputs": [
        {
          "output_type": "display_data",
          "data": {
            "text/html": [
              "\n",
              "     <input type=\"file\" id=\"files-6991933c-b0b1-4c53-9d63-8f1ddc00961e\" name=\"files[]\" multiple disabled\n",
              "        style=\"border:none\" />\n",
              "     <output id=\"result-6991933c-b0b1-4c53-9d63-8f1ddc00961e\">\n",
              "      Upload widget is only available when the cell has been executed in the\n",
              "      current browser session. Please rerun this cell to enable.\n",
              "      </output>\n",
              "      <script src=\"/nbextensions/google.colab/files.js\"></script> "
            ],
            "text/plain": [
              "<IPython.core.display.HTML object>"
            ]
          },
          "metadata": {
            "tags": []
          }
        },
        {
          "output_type": "stream",
          "text": [
            "Saving mbti_1.csv to mbti_1 (1).csv\n"
          ],
          "name": "stdout"
        }
      ]
    },
    {
      "cell_type": "code",
      "metadata": {
        "id": "e7ZU-ay60Zt8",
        "colab": {
          "base_uri": "https://localhost:8080/"
        },
        "outputId": "02b1bf4b-05bc-42c5-9572-1d2a55dd1711"
      },
      "source": [
        "import io\n",
        "import pandas as pd\n",
        "\n",
        "df = pd.read_csv(io.BytesIO(uploaded['mbti_1.csv']))\n",
        "print(uploaded.keys())"
      ],
      "execution_count": 5,
      "outputs": [
        {
          "output_type": "stream",
          "text": [
            "dict_keys(['mbti_1.csv'])\n"
          ],
          "name": "stdout"
        }
      ]
    },
    {
      "cell_type": "code",
      "metadata": {
        "id": "XH5hmKAf_ey0",
        "colab": {
          "base_uri": "https://localhost:8080/",
          "height": 202
        },
        "outputId": "8513d292-7db3-4078-aa6d-1ce5708cc01a"
      },
      "source": [
        "df.head() #Performing minor EDA"
      ],
      "execution_count": 8,
      "outputs": [
        {
          "output_type": "execute_result",
          "data": {
            "text/html": [
              "<div>\n",
              "<style scoped>\n",
              "    .dataframe tbody tr th:only-of-type {\n",
              "        vertical-align: middle;\n",
              "    }\n",
              "\n",
              "    .dataframe tbody tr th {\n",
              "        vertical-align: top;\n",
              "    }\n",
              "\n",
              "    .dataframe thead th {\n",
              "        text-align: right;\n",
              "    }\n",
              "</style>\n",
              "<table border=\"1\" class=\"dataframe\">\n",
              "  <thead>\n",
              "    <tr style=\"text-align: right;\">\n",
              "      <th></th>\n",
              "      <th>type</th>\n",
              "      <th>posts</th>\n",
              "    </tr>\n",
              "  </thead>\n",
              "  <tbody>\n",
              "    <tr>\n",
              "      <th>0</th>\n",
              "      <td>INFJ</td>\n",
              "      <td>'http://www.youtube.com/watch?v=qsXHcwe3krw|||...</td>\n",
              "    </tr>\n",
              "    <tr>\n",
              "      <th>1</th>\n",
              "      <td>ENTP</td>\n",
              "      <td>'I'm finding the lack of me in these posts ver...</td>\n",
              "    </tr>\n",
              "    <tr>\n",
              "      <th>2</th>\n",
              "      <td>INTP</td>\n",
              "      <td>'Good one  _____   https://www.youtube.com/wat...</td>\n",
              "    </tr>\n",
              "    <tr>\n",
              "      <th>3</th>\n",
              "      <td>INTJ</td>\n",
              "      <td>'Dear INTP,   I enjoyed our conversation the o...</td>\n",
              "    </tr>\n",
              "    <tr>\n",
              "      <th>4</th>\n",
              "      <td>ENTJ</td>\n",
              "      <td>'You're fired.|||That's another silly misconce...</td>\n",
              "    </tr>\n",
              "  </tbody>\n",
              "</table>\n",
              "</div>"
            ],
            "text/plain": [
              "   type                                              posts\n",
              "0  INFJ  'http://www.youtube.com/watch?v=qsXHcwe3krw|||...\n",
              "1  ENTP  'I'm finding the lack of me in these posts ver...\n",
              "2  INTP  'Good one  _____   https://www.youtube.com/wat...\n",
              "3  INTJ  'Dear INTP,   I enjoyed our conversation the o...\n",
              "4  ENTJ  'You're fired.|||That's another silly misconce..."
            ]
          },
          "metadata": {
            "tags": []
          },
          "execution_count": 8
        }
      ]
    },
    {
      "cell_type": "code",
      "metadata": {
        "id": "4DNKouPZ_f_I",
        "colab": {
          "base_uri": "https://localhost:8080/"
        },
        "outputId": "f7261565-80fa-4584-bc55-66da7d68d4c7"
      },
      "source": [
        "df.info()"
      ],
      "execution_count": 9,
      "outputs": [
        {
          "output_type": "stream",
          "text": [
            "<class 'pandas.core.frame.DataFrame'>\n",
            "RangeIndex: 8675 entries, 0 to 8674\n",
            "Data columns (total 2 columns):\n",
            " #   Column  Non-Null Count  Dtype \n",
            "---  ------  --------------  ----- \n",
            " 0   type    8675 non-null   object\n",
            " 1   posts   8675 non-null   object\n",
            "dtypes: object(2)\n",
            "memory usage: 135.7+ KB\n"
          ],
          "name": "stdout"
        }
      ]
    },
    {
      "cell_type": "code",
      "metadata": {
        "id": "A2aJuYpH_hJA",
        "colab": {
          "base_uri": "https://localhost:8080/"
        },
        "outputId": "2ce1d8b8-f27c-4133-c0c4-90b6658378e8"
      },
      "source": [
        "df.isna().sum()"
      ],
      "execution_count": 10,
      "outputs": [
        {
          "output_type": "execute_result",
          "data": {
            "text/plain": [
              "type     0\n",
              "posts    0\n",
              "dtype: int64"
            ]
          },
          "metadata": {
            "tags": []
          },
          "execution_count": 10
        }
      ]
    },
    {
      "cell_type": "code",
      "metadata": {
        "id": "G8Fi1bLW_j7a"
      },
      "source": [
        "import matplotlib.pyplot as plt\n",
        "import seaborn as sns\n",
        "%matplotlib inline"
      ],
      "execution_count": 11,
      "outputs": []
    },
    {
      "cell_type": "code",
      "metadata": {
        "id": "DhH9uKGwnpKb",
        "colab": {
          "base_uri": "https://localhost:8080/",
          "height": 377
        },
        "outputId": "7b979468-66ca-4282-c1c7-656157ac6b9a"
      },
      "source": [
        "cnt_types = df['type'].value_counts()\n",
        "\n",
        "plt.figure(figsize=(15,5))\n",
        "sns.barplot(cnt_types.index, cnt_types.values, alpha=0.8,palette='Dark2')\n",
        "plt.ylabel('Number of Occurrences', fontsize=12)\n",
        "plt.xlabel('Personality types', fontsize=12)\n",
        "sns.set()\n",
        "plt.show()\n"
      ],
      "execution_count": 12,
      "outputs": [
        {
          "output_type": "stream",
          "text": [
            "/usr/local/lib/python3.6/dist-packages/seaborn/_decorators.py:43: FutureWarning: Pass the following variables as keyword args: x, y. From version 0.12, the only valid positional argument will be `data`, and passing other arguments without an explicit keyword will result in an error or misinterpretation.\n",
            "  FutureWarning\n"
          ],
          "name": "stderr"
        },
        {
          "output_type": "display_data",
          "data": {
            "image/png": "[encoded data removed]",
            "text/plain": [
              "<Figure size 1080x360 with 1 Axes>"
            ]
          },
          "metadata": {
            "tags": [],
            "needs_background": "light"
          }
        }
      ]
    },
    {
      "cell_type": "code",
      "metadata": {
        "id": "72A9Mn-IoJaJ"
      },
      "source": [
        "def get_types(row):\n",
        "    t=row['type']\n",
        "\n",
        "    I = 0; N = 0\n",
        "    T = 0; J = 0\n",
        "    \n",
        "    if t[0] == 'I': I = 1\n",
        "    elif t[0] == 'E': I = 0\n",
        "    else: print('I-E incorrect')\n",
        "        \n",
        "    if t[1] == 'N': N = 1\n",
        "    elif t[1] == 'S': N = 0\n",
        "    else: print('N-S incorrect')\n",
        "        \n",
        "    if t[2] == 'T': T = 1\n",
        "    elif t[2] == 'F': T = 0\n",
        "    else: print('T-F incorrect')\n",
        "        \n",
        "    if t[3] == 'J': J = 1\n",
        "    elif t[3] == 'P': J = 0\n",
        "    else: print('J-P incorrect')\n",
        "    return pd.Series( {'IE':I, 'NS':N , 'TF': T, 'JP': J }) \n",
        "\n",
        "df = df.join(df.apply (lambda row: get_types (row),axis=1))"
      ],
      "execution_count": 13,
      "outputs": []
    },
    {
      "cell_type": "code",
      "metadata": {
        "id": "QECPWyoPxUZZ",
        "colab": {
          "base_uri": "https://localhost:8080/",
          "height": 202
        },
        "outputId": "bff4df2b-e9e9-4905-b1e9-bd1797a9686e"
      },
      "source": [
        "df.head()"
      ],
      "execution_count": 14,
      "outputs": [
        {
          "output_type": "execute_result",
          "data": {
            "text/html": [
              "<div>\n",
              "<style scoped>\n",
              "    .dataframe tbody tr th:only-of-type {\n",
              "        vertical-align: middle;\n",
              "    }\n",
              "\n",
              "    .dataframe tbody tr th {\n",
              "        vertical-align: top;\n",
              "    }\n",
              "\n",
              "    .dataframe thead th {\n",
              "        text-align: right;\n",
              "    }\n",
              "</style>\n",
              "<table border=\"1\" class=\"dataframe\">\n",
              "  <thead>\n",
              "    <tr style=\"text-align: right;\">\n",
              "      <th></th>\n",
              "      <th>type</th>\n",
              "      <th>posts</th>\n",
              "      <th>IE</th>\n",
              "      <th>NS</th>\n",
              "      <th>TF</th>\n",
              "      <th>JP</th>\n",
              "    </tr>\n",
              "  </thead>\n",
              "  <tbody>\n",
              "    <tr>\n",
              "      <th>0</th>\n",
              "      <td>INFJ</td>\n",
              "      <td>'http://www.youtube.com/watch?v=qsXHcwe3krw|||...</td>\n",
              "      <td>1</td>\n",
              "      <td>1</td>\n",
              "      <td>0</td>\n",
              "      <td>1</td>\n",
              "    </tr>\n",
              "    <tr>\n",
              "      <th>1</th>\n",
              "      <td>ENTP</td>\n",
              "      <td>'I'm finding the lack of me in these posts ver...</td>\n",
              "      <td>0</td>\n",
              "      <td>1</td>\n",
              "      <td>1</td>\n",
              "      <td>0</td>\n",
              "    </tr>\n",
              "    <tr>\n",
              "      <th>2</th>\n",
              "      <td>INTP</td>\n",
              "      <td>'Good one  _____   https://www.youtube.com/wat...</td>\n",
              "      <td>1</td>\n",
              "      <td>1</td>\n",
              "      <td>1</td>\n",
              "      <td>0</td>\n",
              "    </tr>\n",
              "    <tr>\n",
              "      <th>3</th>\n",
              "      <td>INTJ</td>\n",
              "      <td>'Dear INTP,   I enjoyed our conversation the o...</td>\n",
              "      <td>1</td>\n",
              "      <td>1</td>\n",
              "      <td>1</td>\n",
              "      <td>1</td>\n",
              "    </tr>\n",
              "    <tr>\n",
              "      <th>4</th>\n",
              "      <td>ENTJ</td>\n",
              "      <td>'You're fired.|||That's another silly misconce...</td>\n",
              "      <td>0</td>\n",
              "      <td>1</td>\n",
              "      <td>1</td>\n",
              "      <td>1</td>\n",
              "    </tr>\n",
              "  </tbody>\n",
              "</table>\n",
              "</div>"
            ],
            "text/plain": [
              "   type                                              posts  IE  NS  TF  JP\n",
              "0  INFJ  'http://www.youtube.com/watch?v=qsXHcwe3krw|||...   1   1   0   1\n",
              "1  ENTP  'I'm finding the lack of me in these posts ver...   0   1   1   0\n",
              "2  INTP  'Good one  _____   https://www.youtube.com/wat...   1   1   1   0\n",
              "3  INTJ  'Dear INTP,   I enjoyed our conversation the o...   1   1   1   1\n",
              "4  ENTJ  'You're fired.|||That's another silly misconce...   0   1   1   1"
            ]
          },
          "metadata": {
            "tags": []
          },
          "execution_count": 14
        }
      ]
    },
    {
      "cell_type": "code",
      "metadata": {
        "id": "BPrOAoOUxVq1",
        "colab": {
          "base_uri": "https://localhost:8080/"
        },
        "outputId": "068a1683-894b-4a55-8d03-fc8c09887df3"
      },
      "source": [
        "#Separately counting each and every data type\n",
        "print (\"Introversion (I) /  Extroversion (E):\\t\", df['IE'].value_counts()[0], \" / \", df['IE'].value_counts()[1])"
      ],
      "execution_count": 15,
      "outputs": [
        {
          "output_type": "stream",
          "text": [
            "Introversion (I) /  Extroversion (E):\t 1999  /  6676\n"
          ],
          "name": "stdout"
        }
      ]
    },
    {
      "cell_type": "code",
      "metadata": {
        "id": "H3ruLj-fzNeJ",
        "colab": {
          "base_uri": "https://localhost:8080/"
        },
        "outputId": "f41403c0-0808-46d3-e636-53b838adbe1b"
      },
      "source": [
        "print (\"Intuition (N) / Sensing (S):\\t\\t\", df['NS'].value_counts()[0], \" / \", df['NS'].value_counts()[1])\n"
      ],
      "execution_count": 16,
      "outputs": [
        {
          "output_type": "stream",
          "text": [
            "Intuition (N) / Sensing (S):\t\t 1197  /  7478\n"
          ],
          "name": "stdout"
        }
      ]
    },
    {
      "cell_type": "code",
      "metadata": {
        "id": "MM7SkyFEzW4J",
        "colab": {
          "base_uri": "https://localhost:8080/"
        },
        "outputId": "12d17cae-8f2b-4edb-a2ae-ed54eef8d95f"
      },
      "source": [
        "print (\"Thinking (T) / Feeling (F):\\t\\t\", df['TF'].value_counts()[0], \" / \", df['TF'].value_counts()[1])\n"
      ],
      "execution_count": 17,
      "outputs": [
        {
          "output_type": "stream",
          "text": [
            "Thinking (T) / Feeling (F):\t\t 4694  /  3981\n"
          ],
          "name": "stdout"
        }
      ]
    },
    {
      "cell_type": "code",
      "metadata": {
        "id": "-CMXnvowza8K",
        "colab": {
          "base_uri": "https://localhost:8080/"
        },
        "outputId": "a70826fe-53b5-478c-e7b4-81b8827eeafb"
      },
      "source": [
        "print (\"Judging (J) / Perceiving (P):\\t\\t\", df['JP'].value_counts()[0], \" / \", df['JP'].value_counts()[1])"
      ],
      "execution_count": 18,
      "outputs": [
        {
          "output_type": "stream",
          "text": [
            "Judging (J) / Perceiving (P):\t\t 5241  /  3434\n"
          ],
          "name": "stdout"
        }
      ]
    },
    {
      "cell_type": "code",
      "metadata": {
        "id": "GmaADXFezz-T",
        "colab": {
          "base_uri": "https://localhost:8080/"
        },
        "outputId": "0b3825d9-1f70-4008-b5c3-c6681d7b0f6f"
      },
      "source": [
        "#Printing the correlation matrix\n",
        "##This helps us check the linear relationship between the pairs of persona traits\n",
        "corr = df[['IE','NS','TF','JP']].corr()\n",
        "print(corr)"
      ],
      "execution_count": 19,
      "outputs": [
        {
          "output_type": "stream",
          "text": [
            "          IE        NS        TF        JP\n",
            "IE  1.000000 -0.045899 -0.069573  0.161939\n",
            "NS -0.045899  1.000000 -0.080954  0.014922\n",
            "TF -0.069573 -0.080954  1.000000 -0.004673\n",
            "JP  0.161939  0.014922 -0.004673  1.000000\n"
          ],
          "name": "stdout"
        }
      ]
    },
    {
      "cell_type": "code",
      "metadata": {
        "id": "BipDIfTxz0Jc",
        "colab": {
          "base_uri": "https://localhost:8080/",
          "height": 629
        },
        "outputId": "32813032-2689-4e6a-b004-bf93639429c1"
      },
      "source": [
        "plt.figure(figsize=(10,10))\n",
        "plt.title('Pearson Features Correlation', size=15)\n",
        "sns.heatmap(corr, cmap=\"coolwarm\",  annot=True, linewidths=1)"
      ],
      "execution_count": 20,
      "outputs": [
        {
          "output_type": "execute_result",
          "data": {
            "text/plain": [
              "<matplotlib.axes._subplots.AxesSubplot at 0x7fda56e5add8>"
            ]
          },
          "metadata": {
            "tags": []
          },
          "execution_count": 20
        },
        {
          "output_type": "display_data",
          "data": {
            "image/png": "[encoded data removed]",
            "text/plain": [
              "<Figure size 720x720 with 2 Axes>"
            ]
          },
          "metadata": {
            "tags": []
          }
        }
      ]
    },
    {
      "cell_type": "code",
      "metadata": {
        "id": "wLfs1HJKBtFH",
        "colab": {
          "base_uri": "https://localhost:8080/"
        },
        "outputId": "c8b301e8-89dd-41de-c792-2d4063b91eaa"
      },
      "source": [
        "import numpy as np\n",
        "b_Pers = {'I':0, 'E':1, 'N':0, 'S':1, 'F':0, 'T':1, 'J':0, 'P':1}\n",
        "b_Pers_list = [{0:'I', 1:'E'}, {0:'N', 1:'S'}, {0:'F', 1:'T'}, {0:'J', 1:'P'}]\n",
        "\n",
        "def translate_personality(personality):\n",
        "    #MBTI to binary vector\n",
        "    return [b_Pers[l] for l in personality]\n",
        "\n",
        "def translate_back(personality):\n",
        "    #binary vector to MBTI personality\n",
        "    \n",
        "    s = \"\"\n",
        "    for i, l in enumerate(personality):\n",
        "        s += b_Pers_list[i][l]\n",
        "    return s\n",
        "\n",
        "#Checking\n",
        "d = df.head(4)\n",
        "list_personality_bin = np.array([translate_personality(p) for p in d.type])\n",
        "print(\"Binarize MBTI list: \\n%s\" % list_personality_bin)"
      ],
      "execution_count": 21,
      "outputs": [
        {
          "output_type": "stream",
          "text": [
            "Binarize MBTI list: \n",
            "[[0 0 0 0]\n",
            " [1 0 1 1]\n",
            " [0 0 1 1]\n",
            " [0 0 1 0]]\n"
          ],
          "name": "stdout"
        }
      ]
    },
    {
      "cell_type": "code",
      "metadata": {
        "id": "ayuBUAt_z0U4",
        "colab": {
          "base_uri": "https://localhost:8080/"
        },
        "outputId": "6bcfef6e-4bd7-4f92-f7f2-29853ac706cb"
      },
      "source": [
        "import nltk\n",
        "nltk.download(\"popular\")"
      ],
      "execution_count": 22,
      "outputs": [
        {
          "output_type": "stream",
          "text": [
            "[nltk_data] Downloading collection 'popular'\n",
            "[nltk_data]    | \n",
            "[nltk_data]    | Downloading package cmudict to /root/nltk_data...\n",
            "[nltk_data]    |   Unzipping corpora/cmudict.zip.\n",
            "[nltk_data]    | Downloading package gazetteers to /root/nltk_data...\n",
            "[nltk_data]    |   Unzipping corpora/gazetteers.zip.\n",
            "[nltk_data]    | Downloading package genesis to /root/nltk_data...\n",
            "[nltk_data]    |   Unzipping corpora/genesis.zip.\n",
            "[nltk_data]    | Downloading package gutenberg to /root/nltk_data...\n",
            "[nltk_data]    |   Unzipping corpora/gutenberg.zip.\n",
            "[nltk_data]    | Downloading package inaugural to /root/nltk_data...\n",
            "[nltk_data]    |   Unzipping corpora/inaugural.zip.\n",
            "[nltk_data]    | Downloading package movie_reviews to\n",
            "[nltk_data]    |     /root/nltk_data...\n",
            "[nltk_data]    |   Unzipping corpora/movie_reviews.zip.\n",
            "[nltk_data]    | Downloading package names to /root/nltk_data...\n",
            "[nltk_data]    |   Unzipping corpora/names.zip.\n",
            "[nltk_data]    | Downloading package shakespeare to /root/nltk_data...\n",
            "[nltk_data]    |   Unzipping corpora/shakespeare.zip.\n",
            "[nltk_data]    | Downloading package stopwords to /root/nltk_data...\n",
            "[nltk_data]    |   Unzipping corpora/stopwords.zip.\n",
            "[nltk_data]    | Downloading package treebank to /root/nltk_data...\n",
            "[nltk_data]    |   Unzipping corpora/treebank.zip.\n",
            "[nltk_data]    | Downloading package twitter_samples to\n",
            "[nltk_data]    |     /root/nltk_data...\n",
            "[nltk_data]    |   Unzipping corpora/twitter_samples.zip.\n",
            "[nltk_data]    | Downloading package omw to /root/nltk_data...\n",
            "[nltk_data]    |   Unzipping corpora/omw.zip.\n",
            "[nltk_data]    | Downloading package wordnet to /root/nltk_data...\n",
            "[nltk_data]    |   Unzipping corpora/wordnet.zip.\n",
            "[nltk_data]    | Downloading package wordnet_ic to /root/nltk_data...\n",
            "[nltk_data]    |   Unzipping corpora/wordnet_ic.zip.\n",
            "[nltk_data]    | Downloading package words to /root/nltk_data...\n",
            "[nltk_data]    |   Unzipping corpora/words.zip.\n",
            "[nltk_data]    | Downloading package maxent_ne_chunker to\n",
            "[nltk_data]    |     /root/nltk_data...\n",
            "[nltk_data]    |   Unzipping chunkers/maxent_ne_chunker.zip.\n",
            "[nltk_data]    | Downloading package punkt to /root/nltk_data...\n",
            "[nltk_data]    |   Unzipping tokenizers/punkt.zip.\n",
            "[nltk_data]    | Downloading package snowball_data to\n",
            "[nltk_data]    |     /root/nltk_data...\n",
            "[nltk_data]    | Downloading package averaged_perceptron_tagger to\n",
            "[nltk_data]    |     /root/nltk_data...\n",
            "[nltk_data]    |   Unzipping taggers/averaged_perceptron_tagger.zip.\n",
            "[nltk_data]    | \n",
            "[nltk_data]  Done downloading collection popular\n"
          ],
          "name": "stdout"
        },
        {
          "output_type": "execute_result",
          "data": {
            "text/plain": [
              "True"
            ]
          },
          "metadata": {
            "tags": []
          },
          "execution_count": 22
        }
      ]
    },
    {
      "cell_type": "markdown",
      "metadata": {
        "id": "xckUpfma2KWl"
      },
      "source": [
        "\n",
        "**Text Preprocessing using NLTK**"
      ]
    },
    {
      "cell_type": "code",
      "metadata": {
        "id": "fYlmOBuT79yU"
      },
      "source": [
        "from nltk.stem import PorterStemmer, WordNetLemmatizer\n",
        "from nltk.corpus import stopwords \n",
        "from nltk import word_tokenize\n",
        "\n",
        "\n",
        "unique_type_list = ['INFJ', 'ENTP', 'INTP', 'INTJ', 'ENTJ', 'ENFJ', 'INFP', 'ENFP',\n",
        "       'ISFP', 'ISTP', 'ISFJ', 'ISTJ', 'ESTP', 'ESFP', 'ESTJ', 'ESFJ']\n",
        "  \n",
        "unique_type_list = [x.lower() for x in unique_type_list]\n"
      ],
      "execution_count": 23,
      "outputs": []
    },
    {
      "cell_type": "code",
      "metadata": {
        "id": "mqQockFa8CFp"
      },
      "source": [
        "#Lemmatize\n",
        "stemmer = PorterStemmer()\n",
        "lemmatiser = WordNetLemmatizer()\n",
        "\n",
        "#Removing stopwords\n",
        "cachedStopWords = stopwords.words(\"english\")"
      ],
      "execution_count": 24,
      "outputs": []
    },
    {
      "cell_type": "code",
      "metadata": {
        "id": "wtTofOJqBQcP"
      },
      "source": [
        "import re"
      ],
      "execution_count": 25,
      "outputs": []
    },
    {
      "cell_type": "code",
      "metadata": {
        "id": "h8Dyx4kk-9XK"
      },
      "source": [
        "def pre_process_data(df, remove_stop_words=True, remove_mbti_profiles=True):\n",
        "\n",
        "    list_personality = []\n",
        "    list_posts = []\n",
        "    len_data = len(df)\n",
        "    i=0\n",
        "    \n",
        "    for row in df.iterrows():\n",
        "        i+=1\n",
        "        if (i % 500 == 0 or i == 1 or i == len_data):\n",
        "            print(\"%s of %s rows\" % (i, len_data))\n",
        "\n",
        "        ##Removing stop-words, cleaning comments, lowercasing all characters\n",
        "        posts = row[1].posts\n",
        "        temp = re.sub('http[s]?://(?:[a-zA-Z]|[0-9]|[$-_@.&+]|(?:%[0-9a-fA-F][0-9a-fA-F]))+', ' ', posts)\n",
        "        temp = re.sub(\"[^a-zA-Z]\", \" \", temp)\n",
        "        temp = re.sub(' +', ' ', temp).lower()\n",
        "        if remove_stop_words:\n",
        "            temp = \" \".join([lemmatiser.lemmatize(w) for w in temp.split(' ') if w not in cachedStopWords])\n",
        "        else:\n",
        "            temp = \" \".join([lemmatiser.lemmatize(w) for w in temp.split(' ')])\n",
        "            \n",
        "        if remove_mbti_profiles:\n",
        "            for t in unique_type_list:\n",
        "                temp = temp.replace(t,\"\")\n",
        "\n",
        "        type_labelized = translate_personality(row[1].type)\n",
        "        list_personality.append(type_labelized)\n",
        "        list_posts.append(temp)\n",
        "\n",
        "    list_posts = np.array(list_posts)\n",
        "    list_personality = np.array(list_personality)\n",
        "    return list_posts, list_personality"
      ],
      "execution_count": 26,
      "outputs": []
    },
    {
      "cell_type": "code",
      "metadata": {
        "id": "vnzdD6WxApy7",
        "colab": {
          "base_uri": "https://localhost:8080/"
        },
        "outputId": "6bd19373-89ad-4865-f6ba-4fa017bb0f37"
      },
      "source": [
        "list_posts, list_personality  = pre_process_data(df, remove_stop_words=True)"
      ],
      "execution_count": 27,
      "outputs": [
        {
          "output_type": "stream",
          "text": [
            "1 of 8675 rows\n",
            "500 of 8675 rows\n",
            "1000 of 8675 rows\n",
            "1500 of 8675 rows\n",
            "2000 of 8675 rows\n",
            "2500 of 8675 rows\n",
            "3000 of 8675 rows\n",
            "3500 of 8675 rows\n",
            "4000 of 8675 rows\n",
            "4500 of 8675 rows\n",
            "5000 of 8675 rows\n",
            "5500 of 8675 rows\n",
            "6000 of 8675 rows\n",
            "6500 of 8675 rows\n",
            "7000 of 8675 rows\n",
            "7500 of 8675 rows\n",
            "8000 of 8675 rows\n",
            "8500 of 8675 rows\n",
            "8675 of 8675 rows\n"
          ],
          "name": "stdout"
        }
      ]
    },
    {
      "cell_type": "markdown",
      "metadata": {
        "id": "Pf2AJ8drDESO"
      },
      "source": [
        "**Text Data Vectorization using CountVectorizer and TFIDF**"
      ]
    },
    {
      "cell_type": "code",
      "metadata": {
        "id": "gWJd_8bJE906",
        "colab": {
          "base_uri": "https://localhost:8080/"
        },
        "outputId": "44260876-5cf0-4f60-b95b-98d0fb6aac2e"
      },
      "source": [
        "from sklearn.feature_extraction.text import TfidfTransformer\n",
        "from sklearn.feature_extraction.text import CountVectorizer\n",
        "from sklearn.manifold import TSNE\n",
        "\n",
        "# Posts to a matrix of token counts\n",
        "cnt = CountVectorizer(analyzer=\"word\", \n",
        "                             max_features=1500, \n",
        "                             tokenizer=None,    \n",
        "                             preprocessor=None, \n",
        "                             stop_words=None,  \n",
        "                             max_df=0.7,\n",
        "                             min_df=0.1) \n",
        "\n",
        "# Learning the vocabulary dictionary and return term-document matrix\n",
        "print(\"Tokenizing words using CountVectorizer...\")\n",
        "X_cnt = cnt.fit_transform(list_posts)\n",
        "\n",
        "# Transforming the count matrix to a normalized tf or tf-idf representation\n",
        "tf = TfidfTransformer()\n",
        "\n",
        "print(\"Measuring their statistical relevance using TF-IDF...\")\n",
        "# Learning the idf vector (fit) and transform a count matrix to a tf-idf representation\n",
        "X_tfidf =  tf.fit_transform(X_cnt).toarray()"
      ],
      "execution_count": 28,
      "outputs": [
        {
          "output_type": "stream",
          "text": [
            "Tokenizing words using CountVectorizer...\n",
            "Measuring their statistical relevance using TF-IDF...\n"
          ],
          "name": "stdout"
        }
      ]
    },
    {
      "cell_type": "code",
      "metadata": {
        "id": "Zv2anHYcFfeR"
      },
      "source": [
        "feature_names = list(enumerate(cnt.get_feature_names()))"
      ],
      "execution_count": 29,
      "outputs": []
    },
    {
      "cell_type": "code",
      "metadata": {
        "id": "z8xUJ5uEFmnm",
        "colab": {
          "base_uri": "https://localhost:8080/"
        },
        "outputId": "019acc77-9143-4c2e-ee99-2186e78a9eea"
      },
      "source": [
        "#Checking the dimensions of the feature vector\n",
        "X_tfidf.shape"
      ],
      "execution_count": 30,
      "outputs": [
        {
          "output_type": "execute_result",
          "data": {
            "text/plain": [
              "(8675, 791)"
            ]
          },
          "metadata": {
            "tags": []
          },
          "execution_count": 30
        }
      ]
    },
    {
      "cell_type": "markdown",
      "metadata": {
        "id": "GBzqY_GxLM1f"
      },
      "source": [
        "**Performing XGBoost Classification**"
      ]
    },
    {
      "cell_type": "code",
      "metadata": {
        "id": "r08RjuYJLVqk",
        "colab": {
          "base_uri": "https://localhost:8080/"
        },
        "outputId": "0907d903-07bc-4f31-f436-3ad25131f0fe"
      },
      "source": [
        "type_indicators = [ \"IE: Introversion (I) / Extroversion (E)\", \"NS: Intuition (N) – Sensing (S)\", \n",
        "                   \"FT: Feeling (F) - Thinking (T)\", \"JP: Judging (J) – Perceiving (P)\"  ]\n",
        "\n",
        "print(\"\\t\\t Printing the four major dimensions of personality classification in MBTI:\")\n",
        "for l in range(len(type_indicators)):\n",
        "    print(\"\\t\\t\\t\\t\\t\"+type_indicators[l])"
      ],
      "execution_count": 31,
      "outputs": [
        {
          "output_type": "stream",
          "text": [
            "\t\t Printing the four major dimensions of personality classification in MBTI:\n",
            "\t\t\t\t\tIE: Introversion (I) / Extroversion (E)\n",
            "\t\t\t\t\tNS: Intuition (N) – Sensing (S)\n",
            "\t\t\t\t\tFT: Feeling (F) - Thinking (T)\n",
            "\t\t\t\t\tJP: Judging (J) – Perceiving (P)\n"
          ],
          "name": "stdout"
        }
      ]
    },
    {
      "cell_type": "code",
      "metadata": {
        "id": "1IIJ9Z1WN3xh",
        "colab": {
          "base_uri": "https://localhost:8080/"
        },
        "outputId": "5b1ce6e5-960a-40dc-f500-0ef5193bfe30"
      },
      "source": [
        "print(\"MBTI 1st row: %s\" % translate_back(list_personality[0,:]))\n",
        "print(\"Y: Binarized MBTI 1st row: %s\" % list_personality[0,:])\n"
      ],
      "execution_count": 32,
      "outputs": [
        {
          "output_type": "stream",
          "text": [
            "MBTI 1st row: INFJ\n",
            "Y: Binarized MBTI 1st row: [0 0 0 0]\n"
          ],
          "name": "stdout"
        }
      ]
    },
    {
      "cell_type": "code",
      "metadata": {
        "id": "DgEtAennOqSQ"
      },
      "source": [
        "from numpy import loadtxt\n",
        "from xgboost import XGBClassifier\n",
        "from sklearn.model_selection import train_test_split\n",
        "from sklearn.metrics import accuracy_score"
      ],
      "execution_count": 33,
      "outputs": []
    },
    {
      "cell_type": "code",
      "metadata": {
        "id": "F5NpK7n9C0Pu",
        "colab": {
          "base_uri": "https://localhost:8080/"
        },
        "outputId": "78f0485a-00f6-49ef-f545-f9ba14c541ce"
      },
      "source": [
        "X = X_tfidf\n",
        "\n",
        "# Training type indicator individually\n",
        "for l in range(len(type_indicators)):\n",
        "    print(\"%s ...\" % (type_indicators[l]))\n",
        "\n",
        "   #Selecting individual personality targets\n",
        "    Y = list_personality[:,l]\n",
        "\n",
        "    #Splitting our data\n",
        "    X_train, X_test, y_train, y_test = train_test_split(X, Y, test_size=0.1, random_state=21)\n",
        "\n",
        "    #Fitting our model\n",
        "    model = XGBClassifier()\n",
        "    model.fit(X_train, y_train)\n",
        "    print(\"...\\nTraining complete\")\n",
        "\n",
        "    #Predicting on our test set\n",
        "    y_pred = model.predict(X_test)\n",
        "    predictions = [round(value) for value in y_pred]\n",
        "\n",
        "    #Calculating accuracy\n",
        "    accuracy = accuracy_score(y_test, predictions)\n",
        "    print(\"* %s Accuracy: %.2f%%\" % (type_indicators[l], accuracy * 100.0))"
      ],
      "execution_count": 34,
      "outputs": [
        {
          "output_type": "stream",
          "text": [
            "IE: Introversion (I) / Extroversion (E) ...\n",
            "...\n",
            "Training complete\n",
            "* IE: Introversion (I) / Extroversion (E) Accuracy: 77.53%\n",
            "NS: Intuition (N) – Sensing (S) ...\n",
            "...\n",
            "Training complete\n",
            "* NS: Intuition (N) – Sensing (S) Accuracy: 87.21%\n",
            "FT: Feeling (F) - Thinking (T) ...\n",
            "...\n",
            "Training complete\n",
            "* FT: Feeling (F) - Thinking (T) Accuracy: 75.69%\n",
            "JP: Judging (J) – Perceiving (P) ...\n",
            "...\n",
            "Training complete\n",
            "* JP: Judging (J) – Perceiving (P) Accuracy: 67.05%\n"
          ],
          "name": "stdout"
        }
      ]
    },
    {
      "cell_type": "code",
      "metadata": {
        "id": "16ybj2_6OWlX",
        "colab": {
          "base_uri": "https://localhost:8080/"
        },
        "outputId": "3b42f281-883e-4070-e43c-f2f8ff376c09"
      },
      "source": [
        "#Checking the default values of the XGBoost Algo\n",
        "default_get_xgb_params = model.get_xgb_params()\n",
        "print (default_get_xgb_params)"
      ],
      "execution_count": 35,
      "outputs": [
        {
          "output_type": "stream",
          "text": [
            "{'base_score': 0.5, 'booster': 'gbtree', 'colsample_bylevel': 1, 'colsample_bynode': 1, 'colsample_bytree': 1, 'gamma': 0, 'learning_rate': 0.1, 'max_delta_step': 0, 'max_depth': 3, 'min_child_weight': 1, 'missing': None, 'n_estimators': 100, 'nthread': 1, 'objective': 'binary:logistic', 'reg_alpha': 0, 'reg_lambda': 1, 'scale_pos_weight': 1, 'seed': 0, 'subsample': 1, 'verbosity': 1}\n"
          ],
          "name": "stdout"
        }
      ]
    },
    {
      "cell_type": "code",
      "metadata": {
        "id": "fRnTuot7LSf0"
      },
      "source": [
        ""
      ],
      "execution_count": 35,
      "outputs": []
    },
    {
      "cell_type": "markdown",
      "metadata": {
        "id": "XAxCavDDM-3V"
      },
      "source": [
        "**Adjusting parameters according to our datatset**"
      ]
    },
    {
      "cell_type": "code",
      "metadata": {
        "id": "RMkX-FjERpbc",
        "colab": {
          "base_uri": "https://localhost:8080/"
        },
        "outputId": "0ac67484-764d-4417-8b4c-0eea58c79dc7"
      },
      "source": [
        "param = {}\n",
        "\n",
        "param['n_estimators'] = 200\n",
        "param['max_depth'] = 2\n",
        "param['nthread'] = 8\n",
        "param['learning_rate'] = 0.2\n",
        "\n",
        "#Training type indicator individually\n",
        "for l in range(len(type_indicators)):\n",
        "    print(\"%s :\\n\\n\" % (type_indicators[l]))\n",
        "    \n",
        "    Y = list_personality[:,l]\n",
        "\n",
        "    #Train-Test Split\n",
        "    X_train, X_test, y_train, y_test = train_test_split(X, Y, test_size=0.1, random_state=21)\n",
        "\n",
        "    #Fitting our model\n",
        "    model = XGBClassifier(**param)\n",
        "    model.fit(X_train, y_train)\n",
        "    #Analysis on test set\n",
        "    y_pred = model.predict(X_test)\n",
        "    predictions = [round(value) for value in y_pred]\n",
        "    #Calculating accuracy individually\n",
        "    accuracy = accuracy_score(y_test, predictions)\n",
        "    print(\"* %s Accuracy: %.2f%%\" % (type_indicators[l], accuracy * 100.0))"
      ],
      "execution_count": 36,
      "outputs": [
        {
          "output_type": "stream",
          "text": [
            "IE: Introversion (I) / Extroversion (E) :\n",
            "\n",
            "\n",
            "* IE: Introversion (I) / Extroversion (E) Accuracy: 77.65%\n",
            "NS: Intuition (N) – Sensing (S) :\n",
            "\n",
            "\n",
            "* NS: Intuition (N) – Sensing (S) Accuracy: 87.21%\n",
            "FT: Feeling (F) - Thinking (T) :\n",
            "\n",
            "\n",
            "* FT: Feeling (F) - Thinking (T) Accuracy: 76.84%\n",
            "JP: Judging (J) – Perceiving (P) :\n",
            "\n",
            "\n",
            "* JP: Judging (J) – Perceiving (P) Accuracy: 68.09%\n"
          ],
          "name": "stdout"
        }
      ]
    },
    {
      "cell_type": "code",
      "metadata": {
        "id": "LpJPaJeaTGYY"
      },
      "source": [
        "#Experimenting with my own words\n",
        "def predict_mbti():\n",
        "  my_posts  = input(\"\\nEnter your answer:\")\n",
        "\n",
        "  mydata = pd.DataFrame(data={'type': ['ENTP'], 'posts': [my_posts]})\n",
        "\n",
        "  my_posts, dummy  = pre_process_data(mydata, remove_stop_words=True)\n",
        "\n",
        "  my_X_cnt = cnt.transform(my_posts)\n",
        "  my_X_tfidf =  tf.transform(my_X_cnt).toarray()\n",
        "\n",
        "  result = []\n",
        "  #Training type vector indivudually\n",
        "  for l in range(len(type_indicators)):\n",
        "      print(\"%s : Training complete.\\n \" % (type_indicators[l]))\n",
        "    \n",
        "      Y = list_personality[:,l]\n",
        "\n",
        "      #Train-Test-Split\n",
        "      X_train, X_test, y_train, y_test = train_test_split(X, Y, test_size=0.1, random_state=21)\n",
        "\n",
        "      #Fitting our model\n",
        "      model = XGBClassifier(**param)\n",
        "      model.fit(X_train, y_train)\n",
        "      \n",
        "      #Running the test sets\n",
        "      y_pred = model.predict(my_X_tfidf)\n",
        "      result.append(y_pred[0])\n",
        "  \n",
        "  print(\"\\n\\nThe result is: \", translate_back(result))\n",
        "  a=str(translate_back(result))\n",
        "  from imageio import imread\n",
        "  from wordcloud import WordCloud, STOPWORDS, ImageColorGenerator\n",
        "  from PIL import Image\n",
        "  brain_mask = np.array(Image.open(\"head3.jpg\"))\n",
        " \n",
        "\n",
        "  df_4 = df[df['type'] == a]\n",
        "  wordcloud = WordCloud(background_color=\"white\", max_words=2000,mask=brain_mask).generate(df_4['posts'].to_string())\n",
        "  image_colors = ImageColorGenerator(brain_mask)\n",
        "  plt.imshow(wordcloud)\n",
        "  plt.title(a)\n",
        "  plt.axis(\"off\")"
      ],
      "execution_count": 99,
      "outputs": []
    },
    {
      "cell_type": "code",
      "metadata": {
        "colab": {
          "base_uri": "https://localhost:8080/",
          "height": 527
        },
        "id": "tSfjULSZzCLy",
        "outputId": "9c82c4fb-5e44-4c43-e932-868bfb8d9dab"
      },
      "source": [
        "predict()"
      ],
      "execution_count": 82,
      "outputs": [
        {
          "output_type": "stream",
          "text": [
            "\n",
            "Enter your answer:Sharp pain emanating from his left shoulder blade caused him to jerk awake from his sleep. Clutching his back, he shot up in a sitting position, covered in cold sweat.  It was winter solstice again, the darkest night of the year.  Sighing, he could only recall a gunshot, and a icy voice, saying:  “It’s been a while, since I have extracted a ba without a contract. I will make sure you never eavesdrop into, ah- ’grown up discussions’, again.”  He abhorred the memory in every way possible, if he could call it a memory. He knew that this incident never happened in his life, and this started ever since he agreed to be a part of the lucid-dream cultivation research that his crazy Professor was conducting.  Even though he wasn’t a part of his research anymore, once this started, it never stopped.   He had thoroughly searched what a ba was, it was from ancient Egyptian scriptures, apparently some ability of the soul to fly. Along with a the ka, the armour of the soul and the ankh, which allowed the soul to be morphed into any form, it formed the “principal aspect of the soul”.   He glanced towards the window, where the snowflakes seemed to be falling endless abyss. Too many thoughts raced his mind.   A sudden movement caught his eye.  Peering outside the window, he trained his vision on top of a solitary electrical pole.  A raven!  A raven was a rare sight, especially in the bustling streets of New York. But that wasn’t what bothered him.   The bird seemed to be looking directly at him.\n",
            "1 of 1 rows\n",
            "IE: Introversion (I) / Extroversion (E) : Training complete.\n",
            " \n",
            "NS: Intuition (N) – Sensing (S) : Training complete.\n",
            " \n",
            "FT: Feeling (F) - Thinking (T) : Training complete.\n",
            " \n",
            "JP: Judging (J) – Perceiving (P) : Training complete.\n",
            " \n",
            "\n",
            "\n",
            "The result is:  INFJ\n"
          ],
          "name": "stdout"
        },
        {
          "output_type": "display_data",
          "data": {
            "image/png": "[encoded data removed]",
            "text/plain": [
              "<Figure size 432x288 with 1 Axes>"
            ]
          },
          "metadata": {
            "tags": []
          }
        }
      ]
    },
    {
      "cell_type": "code",
      "metadata": {
        "colab": {
          "base_uri": "https://localhost:8080/"
        },
        "id": "rD3qiy3oHxxo",
        "outputId": "dc58e2be-1c52-4100-89d6-c226ee0498e4"
      },
      "source": [
        "from sklearn.externals import joblib\r\n",
        "\r\n",
        "joblib.dump(model, 'model_pickeled')"
      ],
      "execution_count": 91,
      "outputs": [
        {
          "output_type": "execute_result",
          "data": {
            "text/plain": [
              "['model_pickeled']"
            ]
          },
          "metadata": {
            "tags": []
          },
          "execution_count": 91
        }
      ]
    },
    {
      "cell_type": "code",
      "metadata": {
        "id": "SHpMX-15Jdvf"
      },
      "source": [
        "mj = joblib.load('model_pickeled')"
      ],
      "execution_count": 92,
      "outputs": []
    },
    {
      "cell_type": "code",
      "metadata": {
        "colab": {
          "base_uri": "https://localhost:8080/",
          "height": 527
        },
        "id": "3alyLHVuJ4tJ",
        "outputId": "d8057a67-cf01-41f1-bc61-7c5b3ebd68b1"
      },
      "source": [
        "predict_mbti()"
      ],
      "execution_count": 101,
      "outputs": [
        {
          "output_type": "stream",
          "text": [
            "\n",
            "Enter your answer:I love to eat lasagna and I wanna eat chocolates for desserts I am thinking of buying a deep dish pizza when I am in Chicago and while I am on it I will hit the library and read up stuff for my new project that my professor has given me for Religious Symbology class I am thinking of buying a coffee on the way and hey on the way I might hit up Starbucks in a park.\n",
            "1 of 1 rows\n",
            "IE: Introversion (I) / Extroversion (E) : Training complete.\n",
            " \n",
            "NS: Intuition (N) – Sensing (S) : Training complete.\n",
            " \n",
            "FT: Feeling (F) - Thinking (T) : Training complete.\n",
            " \n",
            "JP: Judging (J) – Perceiving (P) : Training complete.\n",
            " \n",
            "\n",
            "\n",
            "The result is:  INTP\n"
          ],
          "name": "stdout"
        },
        {
          "output_type": "display_data",
          "data": {
            "image/png": "[encoded data removed]",
            "text/plain": [
              "<Figure size 432x288 with 1 Axes>"
            ]
          },
          "metadata": {
            "tags": []
          }
        }
      ]
    }
  ]
}